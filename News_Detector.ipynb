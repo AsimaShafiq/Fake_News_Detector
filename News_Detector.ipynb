{
  "cells": [
    {
      "cell_type": "markdown",
      "source": [
        "\n",
        "\n",
        "### **News_Detection_Challenge.....!**"
      ],
      "metadata": {
        "id": "J4u8HjkY9DUD"
      }
    },
    {
      "cell_type": "code",
      "execution_count": 2,
      "metadata": {
        "colab": {
          "base_uri": "https://localhost:8080/",
          "height": 384
        },
        "id": "Jkg8LsFEAJcS",
        "outputId": "06e5bb1c-b320-4479-babe-62abce42bd44"
      },
      "outputs": [
        {
          "output_type": "stream",
          "name": "stdout",
          "text": [
            "Requirement already satisfied: transformers in /usr/local/lib/python3.11/dist-packages (4.53.3)\n",
            "Requirement already satisfied: filelock in /usr/local/lib/python3.11/dist-packages (from transformers) (3.18.0)\n",
            "Requirement already satisfied: huggingface-hub<1.0,>=0.30.0 in /usr/local/lib/python3.11/dist-packages (from transformers) (0.33.4)\n",
            "Requirement already satisfied: numpy>=1.17 in /usr/local/lib/python3.11/dist-packages (from transformers) (2.0.2)\n",
            "Requirement already satisfied: packaging>=20.0 in /usr/local/lib/python3.11/dist-packages (from transformers) (25.0)\n",
            "Requirement already satisfied: pyyaml>=5.1 in /usr/local/lib/python3.11/dist-packages (from transformers) (6.0.2)\n",
            "Requirement already satisfied: regex!=2019.12.17 in /usr/local/lib/python3.11/dist-packages (from transformers) (2024.11.6)\n",
            "Requirement already satisfied: requests in /usr/local/lib/python3.11/dist-packages (from transformers) (2.32.3)\n",
            "Requirement already satisfied: tokenizers<0.22,>=0.21 in /usr/local/lib/python3.11/dist-packages (from transformers) (0.21.2)\n",
            "Requirement already satisfied: safetensors>=0.4.3 in /usr/local/lib/python3.11/dist-packages (from transformers) (0.5.3)\n",
            "Requirement already satisfied: tqdm>=4.27 in /usr/local/lib/python3.11/dist-packages (from transformers) (4.67.1)\n",
            "Requirement already satisfied: fsspec>=2023.5.0 in /usr/local/lib/python3.11/dist-packages (from huggingface-hub<1.0,>=0.30.0->transformers) (2025.3.0)\n",
            "Requirement already satisfied: typing-extensions>=3.7.4.3 in /usr/local/lib/python3.11/dist-packages (from huggingface-hub<1.0,>=0.30.0->transformers) (4.14.1)\n",
            "Requirement already satisfied: hf-xet<2.0.0,>=1.1.2 in /usr/local/lib/python3.11/dist-packages (from huggingface-hub<1.0,>=0.30.0->transformers) (1.1.5)\n",
            "Requirement already satisfied: charset-normalizer<4,>=2 in /usr/local/lib/python3.11/dist-packages (from requests->transformers) (3.4.2)\n",
            "Requirement already satisfied: idna<4,>=2.5 in /usr/local/lib/python3.11/dist-packages (from requests->transformers) (3.10)\n",
            "Requirement already satisfied: urllib3<3,>=1.21.1 in /usr/local/lib/python3.11/dist-packages (from requests->transformers) (2.5.0)\n",
            "Requirement already satisfied: certifi>=2017.4.17 in /usr/local/lib/python3.11/dist-packages (from requests->transformers) (2025.7.14)\n"
          ]
        },
        {
          "output_type": "stream",
          "name": "stderr",
          "text": [
            "Device set to use cpu\n"
          ]
        }
      ],
      "source": [
        "# Install the Hugging Face Transformers Library:\n",
        "\n",
        "!pip install transformers\n",
        "\n",
        "# Import the Pipeline Function from transformers:\n",
        "\n",
        "from transformers import pipeline\n",
        "\n",
        "# Load the Fake News Detection Model:\n",
        "\n",
        "News_Detector = pipeline(\"text-classification\",model =\"vikram71198/distilroberta-base-finetuned-fake-news-detection\")\n",
        "\n",
        "# Input News Text for Testing:\n",
        "\n",
        "News = '''Minister Talal Chaudhry has asked big social media companies to help Pakistan stop terrorism. In a press talk with Minister Aqeel Malik in Islamabad, he said terrorists are using apps like WhatsApp, X (Twitter), and Facebook to spread hate and lies.\n",
        "He said these platforms must remove accounts spreading violence and stop people from making fake profiles again. He also asked them to share user details when needed. Even groups banned by the US, UK, and UN are using these sites for their messages.\n",
        "He talked about Pakistan’s National Action Plan and said it’s important to stop online terrorism too. He suggested using AI tools to find and block such accounts quickly.\n",
        "Aqeel Malik added that Pakistan has found 481 terrorist-linked accounts and reported them. He said tech companies should share user data and open offices in Pakistan to work better together.\n",
        "He said groups like Tehreek-i-Taliban Pakistan, IS-Khorasan, BLA, and BLF are still active online. They use social media to recruit and spread extremist ideas.\n",
        "Malik said the internet has become a new war zone. Pakistan is serious about fighting terrorism, both offline and online. He asked the world and tech companies to support Pakistan in stopping this danger.\n",
        "\n",
        "'''\n",
        "# Make Predictions:\n",
        "\n",
        "Result = News_Detector(News)\n",
        "\n",
        "# Extract Labels and Scores:\n",
        "\n",
        "label = Result[0]['label']\n",
        "score = Result[0]['score']\n",
        "\n",
        "# Translate Labels to Human_Readable Text:\n",
        "\n",
        "if label == 'LABEL_1':\n",
        "    label_text = \"Real News\"\n",
        "else:\n",
        "    label_text = \"Fake News\"\n",
        "\n"
      ]
    },
    {
      "cell_type": "markdown",
      "source": [
        "# ***Final Result:***"
      ],
      "metadata": {
        "id": "F0kzOJhF800x"
      }
    },
    {
      "cell_type": "code",
      "execution_count": 3,
      "metadata": {
        "id": "CMoyocnQC2vf",
        "colab": {
          "base_uri": "https://localhost:8080/"
        },
        "outputId": "91c6134b-1676-415f-9dec-388db5e61fed"
      },
      "outputs": [
        {
          "output_type": "stream",
          "name": "stdout",
          "text": [
            "\n",
            "***** News Prediction Result *****\n",
            "\n",
            "Prediction: Real News\n",
            "Confidence Score: 0.92\n"
          ]
        }
      ],
      "source": [
        "# Print the Final Result:\n",
        "\n",
        "print(f\"\\n***** News Prediction Result *****\\n\")\n",
        "print(f\"Prediction: {label_text}\")\n",
        "print(f\"Confidence Score: {score:.2f}\")"
      ]
    }
  ],
  "metadata": {
    "accelerator": "GPU",
    "colab": {
      "gpuType": "T4",
      "provenance": []
    },
    "kernelspec": {
      "display_name": "Python 3",
      "name": "python3"
    },
    "language_info": {
      "name": "python"
    }
  },
  "nbformat": 4,
  "nbformat_minor": 0
}